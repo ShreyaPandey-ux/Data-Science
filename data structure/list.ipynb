{
 "cells": [
  {
   "cell_type": "code",
   "execution_count": 1,
   "metadata": {},
   "outputs": [
    {
     "name": "stdout",
     "output_type": "stream",
     "text": [
      "['google', 'zomato', 'swiggy', 'uber', 'ola', 'rapido', 'drive', 'instagram', 'facebook', 'twitter', 'whatsapp', 'linkdin', 'yonosbi']\n"
     ]
    }
   ],
   "source": [
    "apps=['google','zomato','swiggy','uber','ola','rapido','drive','instagram','facebook','twitter','whatsapp','linkdin','yonosbi']\n",
    "print(apps)"
   ]
  },
  {
   "cell_type": "code",
   "execution_count": 5,
   "metadata": {},
   "outputs": [
    {
     "name": "stdout",
     "output_type": "stream",
     "text": [
      "rapido\n",
      "uber\n",
      "instagram\n"
     ]
    }
   ],
   "source": [
    "print(apps[5])\n",
    "print(apps[-10])\n",
    "print(apps[-6])"
   ]
  },
  {
   "cell_type": "code",
   "execution_count": 12,
   "metadata": {},
   "outputs": [
    {
     "name": "stdout",
     "output_type": "stream",
     "text": [
      "['swiggy', 'uber', 'ola', 'rapido', 'drive', 'instagram']\n",
      "['google', 'swiggy', 'ola', 'drive', 'facebook']\n",
      "['google', 'zomato', 'swiggy', 'uber', 'ola', 'rapido']\n",
      "['uber', 'ola', 'rapido', 'drive', 'instagram', 'facebook', 'twitter', 'whatsapp', 'linkdin', 'yonosbi']\n",
      "['google', 'zomato', 'swiggy', 'uber', 'ola', 'rapido', 'drive', 'instagram', 'facebook', 'twitter', 'whatsapp', 'linkdin', 'yonosbi']\n",
      "[]\n"
     ]
    }
   ],
   "source": [
    "print(apps[slice(2,8)])\n",
    "print(apps[0:10:2])\n",
    "print(apps[:6])\n",
    "print(apps[3:])\n",
    "print(apps[:])\n"
   ]
  },
  {
   "cell_type": "markdown",
   "metadata": {},
   "source": []
  },
  {
   "cell_type": "markdown",
   "metadata": {},
   "source": []
  },
  {
   "cell_type": "markdown",
   "metadata": {},
   "source": [
    "LIST METHODS\n",
    "-append()\n",
    "-insert()\n",
    "-pop()\n",
    "- remove()\n",
    "-sort()\n",
    "-reverse()\n",
    "-extend()\n",
    "-copy()\n",
    "-clear()\n",
    "\n"
   ]
  },
  {
   "cell_type": "code",
   "execution_count": 13,
   "metadata": {},
   "outputs": [
    {
     "name": "stdout",
     "output_type": "stream",
     "text": [
      "['google', 'zomato', 'swiggy', 'uber', 'ola', 'rapido', 'drive', 'instagram', 'facebook', 'twitter', 'whatsapp', 'linkdin', 'yonosbi']\n"
     ]
    }
   ],
   "source": [
    "print(apps)\n",
    "\n"
   ]
  },
  {
   "cell_type": "code",
   "execution_count": 14,
   "metadata": {},
   "outputs": [
    {
     "name": "stdout",
     "output_type": "stream",
     "text": [
      "['google', 'zomato', 'swiggy', 'uber', 'ola', 'rapido', 'drive', 'instagram', 'facebook', 'twitter', 'whatsapp', 'linkdin', 'yonosbi', 'snapchat']\n"
     ]
    }
   ],
   "source": [
    "apps.append('snapchat')\n",
    "print(apps)"
   ]
  },
  {
   "cell_type": "code",
   "execution_count": 16,
   "metadata": {},
   "outputs": [
    {
     "name": "stdout",
     "output_type": "stream",
     "text": [
      "['google', 'zomato', 'swiggy', 'uber', 'alarm', 'ola', 'rapido', 'drive', 'instagram', 'facebook', 'twitter', 'whatsapp', 'linkdin', 'yonosbi', 'snapchat']\n"
     ]
    }
   ],
   "source": [
    "apps.insert(4,'alarm')\n",
    "print(apps)"
   ]
  },
  {
   "cell_type": "code",
   "execution_count": 17,
   "metadata": {},
   "outputs": [
    {
     "name": "stdout",
     "output_type": "stream",
     "text": [
      "['google', 'zomato', 'swiggy', 'alarm', 'ola', 'rapido', 'drive', 'instagram', 'facebook', 'twitter', 'whatsapp', 'linkdin', 'yonosbi', 'snapchat']\n"
     ]
    }
   ],
   "source": [
    "apps.pop(3)\n",
    "print(apps)"
   ]
  },
  {
   "cell_type": "code",
   "execution_count": 20,
   "metadata": {},
   "outputs": [
    {
     "name": "stdout",
     "output_type": "stream",
     "text": [
      "['google', 'zomato', 'alarm', 'ola', 'rapido', 'drive', 'instagram', 'facebook', 'twitter', 'whatsapp', 'linkdin', 'yonosbi', 'snapchat']\n"
     ]
    }
   ],
   "source": [
    "apps.remove('swiggy')\n",
    "print(apps)"
   ]
  },
  {
   "cell_type": "code",
   "execution_count": 21,
   "metadata": {},
   "outputs": [
    {
     "name": "stdout",
     "output_type": "stream",
     "text": [
      "['alarm', 'drive', 'facebook', 'google', 'instagram', 'linkdin', 'ola', 'rapido', 'snapchat', 'twitter', 'whatsapp', 'yonosbi', 'zomato']\n"
     ]
    }
   ],
   "source": [
    "apps.sort() #alfabet ke hisab se change krta hai\n",
    "print(apps)"
   ]
  },
  {
   "cell_type": "code",
   "execution_count": 22,
   "metadata": {},
   "outputs": [
    {
     "name": "stdout",
     "output_type": "stream",
     "text": [
      "['zomato', 'yonosbi', 'whatsapp', 'twitter', 'snapchat', 'rapido', 'ola', 'linkdin', 'instagram', 'google', 'facebook', 'drive', 'alarm']\n"
     ]
    }
   ],
   "source": [
    "apps.reverse()\n",
    "print(apps)"
   ]
  },
  {
   "cell_type": "code",
   "execution_count": 33,
   "metadata": {},
   "outputs": [
    {
     "name": "stdout",
     "output_type": "stream",
     "text": [
      "['zomato', 'yonosbi', 'whatsapp', 'twitter', 'snapchat', 'rapido', 'ola', 'linkdin', 'instagram', 'google', 'facebook', 'drive', 'alarm', 't', 'w', 'p', 'h', 'o', 't', 'o', 's', 'p', 'h', 'o', 't', 'o', 's', 'l', 's', 't', 'guava', 'cheery', 'guava', 'cheery', 'guava', 'cheery', 'guava', 'cheery', 'guava', 'cheery', 'canva', 'files']\n"
     ]
    }
   ],
   "source": [
    "\n",
    "apps2 = ['canva','files']\n",
    "apps.extend(apps2)\n",
    "print(apps)\n",
    "\n"
   ]
  },
  {
   "cell_type": "code",
   "execution_count": 34,
   "metadata": {},
   "outputs": [
    {
     "name": "stdout",
     "output_type": "stream",
     "text": [
      "['canva', 'files', 'zomato', 'yonosbi', 'whatsapp', 'twitter', 'snapchat', 'rapido', 'ola', 'linkdin', 'instagram', 'google', 'facebook', 'drive', 'alarm', 't', 'w', 'p', 'h', 'o', 't', 'o', 's', 'p', 'h', 'o', 't', 'o', 's', 'l', 's', 't', 'guava', 'cheery', 'guava', 'cheery', 'guava', 'cheery', 'guava', 'cheery', 'guava', 'cheery', 'canva', 'files']\n"
     ]
    }
   ],
   "source": [
    "apps2.extend(apps)\n",
    "print(apps2)"
   ]
  },
  {
   "cell_type": "code",
   "execution_count": 35,
   "metadata": {},
   "outputs": [
    {
     "name": "stdout",
     "output_type": "stream",
     "text": [
      "['zomato', 'yonosbi', 'whatsapp', 'twitter', 'snapchat', 'rapido', 'ola', 'linkdin', 'instagram', 'google', 'facebook', 'drive', 'alarm', 't', 'w', 'p', 'h', 'o', 't', 'o', 's', 'p', 'h', 'o', 't', 'o', 's', 'l', 's', 't', 'guava', 'cheery', 'guava', 'cheery', 'guava', 'cheery', 'guava', 'cheery', 'guava', 'cheery', 'canva', 'files']\n"
     ]
    }
   ],
   "source": [
    "b = apps.copy()\n",
    "print(b)"
   ]
  },
  {
   "cell_type": "code",
   "execution_count": 36,
   "metadata": {},
   "outputs": [
    {
     "name": "stdout",
     "output_type": "stream",
     "text": [
      "[]\n"
     ]
    }
   ],
   "source": [
    "apps.clear()\n",
    "print(apps)"
   ]
  },
  {
   "cell_type": "code",
   "execution_count": 37,
   "metadata": {},
   "outputs": [
    {
     "name": "stdout",
     "output_type": "stream",
     "text": [
      "['zomato', 'yonosbi', 'whatsapp', 'twitter', 'snapchat', 'rapido', 'ola', 'linkdin', 'instagram', 'google', 'facebook', 'drive', 'alarm', 't', 'w', 'p', 'h', 'o', 't', 'o', 's', 'p', 'h', 'o', 't', 'o', 's', 'l', 's', 't', 'guava', 'cheery', 'guava', 'cheery', 'guava', 'cheery', 'guava', 'cheery', 'guava', 'cheery', 'canva', 'files']\n"
     ]
    }
   ],
   "source": [
    "print(b)"
   ]
  },
  {
   "cell_type": "markdown",
   "metadata": {},
   "source": []
  },
  {
   "cell_type": "code",
   "execution_count": 3,
   "metadata": {},
   "outputs": [
    {
     "ename": "SyntaxError",
     "evalue": "invalid syntax (113711528.py, line 1)",
     "output_type": "error",
     "traceback": [
      "\u001b[1;36m  Cell \u001b[1;32mIn[3], line 1\u001b[1;36m\u001b[0m\n\u001b[1;33m    LIST COMPREHENSION\u001b[0m\n\u001b[1;37m         ^\u001b[0m\n\u001b[1;31mSyntaxError\u001b[0m\u001b[1;31m:\u001b[0m invalid syntax\n"
     ]
    }
   ],
   "source": [
    "LIST COMPREHENSION\n",
    "\n"
   ]
  },
  {
   "cell_type": "code",
   "execution_count": null,
   "metadata": {},
   "outputs": [],
   "source": []
  },
  {
   "cell_type": "code",
   "execution_count": 8,
   "metadata": {},
   "outputs": [
    {
     "name": "stdout",
     "output_type": "stream",
     "text": [
      "[1]\n",
      "[1, 4]\n",
      "[1, 4, 9]\n",
      "[1, 4, 9, 16]\n",
      "[1, 4, 9, 16, 25]\n",
      "[1, 4, 9, 16, 25, 36]\n",
      "[1, 4, 9, 16, 25, 36, 49]\n",
      "[1, 4, 9, 16, 25, 36, 49, 64]\n",
      "[1, 4, 9, 16, 25, 36, 49, 64, 81]\n",
      "[1, 4, 9, 16, 25, 36, 49, 64, 81, 100]\n"
     ]
    }
   ],
   "source": [
    "lst =[1,2,3,4,5,6,7,8,9,10]\n",
    "new_lst= []\n",
    "for i in lst:\n",
    "    new_lst.append(i**2)\n",
    "    print(new_lst)"
   ]
  },
  {
   "cell_type": "code",
   "execution_count": 6,
   "metadata": {},
   "outputs": [
    {
     "name": "stdout",
     "output_type": "stream",
     "text": [
      "[1, 4, 9, 16, 25, 36, 49, 64, 81, 100]\n"
     ]
    }
   ],
   "source": [
    "lst=[1,2,3,4,5,6,7,8,9,10]\n",
    "square=[i**2 for i in lst]\n",
    "print(square)"
   ]
  },
  {
   "cell_type": "code",
   "execution_count": 9,
   "metadata": {},
   "outputs": [
    {
     "name": "stdout",
     "output_type": "stream",
     "text": [
      "[2, 4, 6, 8, 20, 12, 14, 16, 18, 20]\n"
     ]
    }
   ],
   "source": [
    "num=[2,4,3,5,6,7,8,9,20,11,12,13,14,15,16,17,18,19,20]\n",
    "even_num=[i for i in num if i%2 ==0]\n",
    "print(even_num)"
   ]
  },
  {
   "cell_type": "code",
   "execution_count": 12,
   "metadata": {},
   "outputs": [
    {
     "name": "stdout",
     "output_type": "stream",
     "text": [
      "['banana', 'orange', 'cherry', 'mango']\n"
     ]
    }
   ],
   "source": [
    "fruits=['banana','orange','cherry','watermelon','mango','pomegreanate','stawberry']\n",
    "lst=[i for i in fruits if len(i)<=6]\n",
    "print(lst)\n"
   ]
  },
  {
   "cell_type": "code",
   "execution_count": 13,
   "metadata": {},
   "outputs": [
    {
     "name": "stdout",
     "output_type": "stream",
     "text": [
      "['BANANA', 'ORANGE', 'CHERRY', 'WATERMELON', 'MANGO', 'POMEGREANATE', 'STAWBERRY']\n"
     ]
    }
   ],
   "source": [
    "fruits2=[i.upper() for i in fruits]\n",
    "print(fruits2)"
   ]
  },
  {
   "cell_type": "code",
   "execution_count": 14,
   "metadata": {},
   "outputs": [
    {
     "name": "stdout",
     "output_type": "stream",
     "text": [
      "['banana', 'orange', 'watermelon', 'mango', 'pomegreanate', 'stawberry']\n"
     ]
    }
   ],
   "source": [
    "fruits=[i for i in fruits if 'a' in i]\n",
    "print(fruits)"
   ]
  },
  {
   "cell_type": "code",
   "execution_count": null,
   "metadata": {},
   "outputs": [],
   "source": []
  }
 ],
 "metadata": {
  "kernelspec": {
   "display_name": "base",
   "language": "python",
   "name": "python3"
  },
  "language_info": {
   "codemirror_mode": {
    "name": "ipython",
    "version": 3
   },
   "file_extension": ".py",
   "mimetype": "text/x-python",
   "name": "python",
   "nbconvert_exporter": "python",
   "pygments_lexer": "ipython3",
   "version": "3.12.4"
  }
 },
 "nbformat": 4,
 "nbformat_minor": 2
}
