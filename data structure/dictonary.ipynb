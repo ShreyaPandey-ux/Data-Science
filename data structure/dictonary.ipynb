{
 "cells": [
  {
   "cell_type": "markdown",
   "metadata": {},
   "source": []
  },
  {
   "cell_type": "markdown",
   "metadata": {},
   "source": [
    "DICTONARY\n",
    "-how declare it\n",
    "-how to access key and value of a dictonary\n",
    "-how to use loops in dictonary\n",
    "-indexing in dictonary\n"
   ]
  },
  {
   "cell_type": "code",
   "execution_count": 2,
   "metadata": {},
   "outputs": [
    {
     "name": "stdout",
     "output_type": "stream",
     "text": [
      "{'name': 'john', 'class': 'physics', 'roll_no': 12, 'age': 18, 'marks': 80}\n"
     ]
    }
   ],
   "source": [
    "student={\n",
    "    \"name\":\"john\",\n",
    "    \"class\": \"physics\",\n",
    "    \"roll_no\" :12,\n",
    "    \"age\" :18,\n",
    "    \"marks\" :80,\n",
    "}\n",
    "print(student)"
   ]
  },
  {
   "cell_type": "code",
   "execution_count": 4,
   "metadata": {},
   "outputs": [
    {
     "name": "stdout",
     "output_type": "stream",
     "text": [
      "{'lucknow': [25, 30, 35], 'delhi': [30, 35, 40], 'mumbai': [35, 40, 45]}\n"
     ]
    }
   ],
   "source": [
    "temp= {\n",
    "    'lucknow' : [25,30,35],\n",
    "    'delhi' :[30,35,40],\n",
    "    'mumbai' : [35,40,45],\n",
    "}\n",
    "print(temp)"
   ]
  },
  {
   "cell_type": "code",
   "execution_count": 7,
   "metadata": {},
   "outputs": [
    {
     "name": "stdout",
     "output_type": "stream",
     "text": [
      "{'name': 'john', 'age': 22, 'city': 'newyork'}\n"
     ]
    }
   ],
   "source": [
    "info=dict(name='john',age=22,city='newyork')\n",
    "print(info)"
   ]
  },
  {
   "cell_type": "code",
   "execution_count": 9,
   "metadata": {},
   "outputs": [
    {
     "name": "stdout",
     "output_type": "stream",
     "text": [
      "{'name': 'john', 'age': 22, 'city': 'new york'}\n"
     ]
    }
   ],
   "source": [
    "info2=dict([('name','john'),('age',22),('city','new york')])\n",
    "print(info2)"
   ]
  },
  {
   "cell_type": "code",
   "execution_count": 11,
   "metadata": {},
   "outputs": [
    {
     "name": "stdout",
     "output_type": "stream",
     "text": [
      "{'name': 'shreya', 'age': 18, 'city': 'renukoot'}\n"
     ]
    }
   ],
   "source": [
    "info3 = dict(name=input(\"enter your name:\"), age=int(input(\"enter your age:\")),\n",
    "           city=input(\"enter your city: \"))\n",
    "print(info3)"
   ]
  },
  {
   "cell_type": "code",
   "execution_count": null,
   "metadata": {},
   "outputs": [],
   "source": []
  }
 ],
 "metadata": {
  "kernelspec": {
   "display_name": "base",
   "language": "python",
   "name": "python3"
  },
  "language_info": {
   "codemirror_mode": {
    "name": "ipython",
    "version": 3
   },
   "file_extension": ".py",
   "mimetype": "text/x-python",
   "name": "python",
   "nbconvert_exporter": "python",
   "pygments_lexer": "ipython3",
   "version": "3.12.4"
  }
 },
 "nbformat": 4,
 "nbformat_minor": 2
}
