{
 "cells": [
  {
   "cell_type": "code",
   "execution_count": 143,
   "metadata": {},
   "outputs": [
    {
     "name": "stdout",
     "output_type": "stream",
     "text": [
      "hellow my_function\n"
     ]
    }
   ],
   "source": [
    "#non parametrized function\n",
    "def my_function():\n",
    "    print('hellow my_function')\n",
    "my_function()"
   ]
  },
  {
   "cell_type": "code",
   "execution_count": 144,
   "metadata": {},
   "outputs": [
    {
     "name": "stdout",
     "output_type": "stream",
     "text": [
      "hellow my_function\n"
     ]
    }
   ],
   "source": [
    "#function calling\n",
    "my_function()"
   ]
  },
  {
   "cell_type": "code",
   "execution_count": 145,
   "metadata": {},
   "outputs": [
    {
     "name": "stdout",
     "output_type": "stream",
     "text": [
      "hello shreya\n"
     ]
    }
   ],
   "source": [
    "#parameterized function\n",
    "def name(name): #name is a parameter\n",
    "    print(\"hello\"+ \" \" +name)\n",
    "name(\"shreya\") #shreya is a argument\n"
   ]
  },
  {
   "cell_type": "code",
   "execution_count": 146,
   "metadata": {},
   "outputs": [
    {
     "data": {
      "text/plain": [
       "15"
      ]
     },
     "execution_count": 146,
     "metadata": {},
     "output_type": "execute_result"
    }
   ],
   "source": [
    "def func(x):\n",
    "    return(5*x)\n",
    "func(3)"
   ]
  },
  {
   "cell_type": "code",
   "execution_count": 147,
   "metadata": {},
   "outputs": [
    {
     "name": "stdout",
     "output_type": "stream",
     "text": [
      "15\n"
     ]
    }
   ],
   "source": [
    "a=func(3)\n",
    "print(a)#return ka advantage value store hota hai"
   ]
  },
  {
   "cell_type": "code",
   "execution_count": 148,
   "metadata": {},
   "outputs": [
    {
     "name": "stdout",
     "output_type": "stream",
     "text": [
      "hello shreya\n",
      "None\n"
     ]
    }
   ],
   "source": [
    "a=name(\"shreya\")\n",
    "print(a) #print ka disadvantage value store nahi hota hai"
   ]
  },
  {
   "cell_type": "code",
   "execution_count": 149,
   "metadata": {},
   "outputs": [
    {
     "name": "stdout",
     "output_type": "stream",
     "text": [
      "i am from usa\n",
      "i am from uk\n",
      "i am from india\n"
     ]
    }
   ],
   "source": [
    "#default parameterized function\n",
    "def my_country(country=\"india\"):\n",
    "    print(\"i am from\"+\" \"+country)\n",
    "my_country(\"usa\")\n",
    "my_country(\"uk\")\n",
    "my_country()\n",
    "\n",
    "    "
   ]
  },
  {
   "cell_type": "code",
   "execution_count": 150,
   "metadata": {},
   "outputs": [
    {
     "name": "stdout",
     "output_type": "stream",
     "text": [
      "apple\n",
      "banana\n",
      "cherry\n"
     ]
    }
   ],
   "source": [
    "def fruit(fruit):\n",
    "    for x in fruit:\n",
    "        print(x)\n",
    "\n",
    "fruit([\"apple\",\"banana\",\"cherry\"])"
   ]
  },
  {
   "cell_type": "code",
   "execution_count": 151,
   "metadata": {},
   "outputs": [
    {
     "name": "stdout",
     "output_type": "stream",
     "text": [
      "even\n"
     ]
    }
   ],
   "source": [
    "def func(num):\n",
    "    if num%2==0:\n",
    "        print(\"even\")\n",
    "    else:\n",
    "        print(\"odd\")\n",
    "func(66)\n",
    "\n"
   ]
  },
  {
   "cell_type": "code",
   "execution_count": 152,
   "metadata": {},
   "outputs": [
    {
     "name": "stdout",
     "output_type": "stream",
     "text": [
      "5\n"
     ]
    }
   ],
   "source": [
    "#lambda function\n",
    "add= lambda a,b:a+b\n",
    "print(add(2,3))"
   ]
  },
  {
   "cell_type": "code",
   "execution_count": 153,
   "metadata": {},
   "outputs": [
    {
     "data": {
      "text/plain": [
       "5"
      ]
     },
     "execution_count": 153,
     "metadata": {},
     "output_type": "execute_result"
    }
   ],
   "source": [
    "def sum(a,b):\n",
    "    return a+b\n",
    "sum(2,3)"
   ]
  },
  {
   "cell_type": "code",
   "execution_count": 154,
   "metadata": {},
   "outputs": [
    {
     "name": "stdout",
     "output_type": "stream",
     "text": [
      "True\n"
     ]
    }
   ],
   "source": [
    "#even off using lambda\n",
    "even = lambda a: a%2 == 0\n",
    "print(even(2))"
   ]
  },
  {
   "cell_type": "code",
   "execution_count": 155,
   "metadata": {},
   "outputs": [
    {
     "data": {
      "text/plain": [
       "('welcome', 'to', 'degepodium')"
      ]
     },
     "execution_count": 155,
     "metadata": {},
     "output_type": "execute_result"
    }
   ],
   "source": [
    "def myfunc():\n",
    "    return \"welcome\", \"to\", \"degepodium\"\n",
    "myfunc()"
   ]
  },
  {
   "cell_type": "code",
   "execution_count": 156,
   "metadata": {},
   "outputs": [
    {
     "name": "stdout",
     "output_type": "stream",
     "text": [
      "welcome\n",
      "to\n",
      "degepodium\n"
     ]
    }
   ],
   "source": [
    "a,b,c=myfunc()\n",
    "print(a)\n",
    "print(b)\n",
    "print(c)"
   ]
  },
  {
   "cell_type": "markdown",
   "metadata": {},
   "source": [
    "- check a number is prime or not\n",
    "- convert tempreature celcius to fahrenhight\n",
    "- find maximum of three num\n",
    "- calculate factorial\n",
    "- reverse of a string\n",
    "- count vowel in a string\n",
    "- calculate BMI(body mass index) "
   ]
  },
  {
   "cell_type": "code",
   "execution_count": 157,
   "metadata": {},
   "outputs": [
    {
     "name": "stdout",
     "output_type": "stream",
     "text": [
      "1 is not a prime number.\n"
     ]
    }
   ],
   "source": [
    "def is_prime(num):\n",
    "    if num <= 1:\n",
    "        return False\n",
    "    for i in range(2, int(num**0.5) + 1):\n",
    "        if num % i == 0:\n",
    "            return False\n",
    "    return True\n",
    "number = int(input(\"Enter a number: \"))\n",
    "if is_prime(number):\n",
    "    print(f\"{number} is a prime number.\")\n",
    "else:\n",
    "    print(f\"{number} is not a prime number.\")"
   ]
  },
  {
   "cell_type": "code",
   "execution_count": 158,
   "metadata": {},
   "outputs": [
    {
     "name": "stdout",
     "output_type": "stream",
     "text": [
      "2.0°C is equal to 35.6°F.\n"
     ]
    }
   ],
   "source": [
    "def celsius_to_fahrenheit(celsius):\n",
    "    return (celsius * 9/5) + 32\n",
    "\n",
    "celsius = float(input(\"Enter temperature in Celsius: \"))\n",
    "\n",
    "fahrenheit = celsius_to_fahrenheit(celsius)\n",
    "print(f\"{celsius}°C is equal to {fahrenheit}°F.\")"
   ]
  },
  {
   "cell_type": "code",
   "execution_count": 159,
   "metadata": {},
   "outputs": [
    {
     "name": "stdout",
     "output_type": "stream",
     "text": [
      "The maximum of 3.0, 4.0, and 5.0 is 5.0.\n"
     ]
    }
   ],
   "source": [
    "def find_maximum(a, b, c):\n",
    "    return max(a, b, c)\n",
    "\n",
    "num1 = float(input(\"Enter first number: \"))\n",
    "num2 = float(input(\"Enter second number: \"))\n",
    "num3 = float(input(\"Enter third number: \"))\n",
    "maximum = find_maximum(num1, num2, num3)\n",
    "print(f\"The maximum of {num1}, {num2}, and {num3} is {maximum}.\")"
   ]
  },
  {
   "cell_type": "code",
   "execution_count": 160,
   "metadata": {},
   "outputs": [
    {
     "name": "stdout",
     "output_type": "stream",
     "text": [
      "The factorial of 6 is 720.\n"
     ]
    }
   ],
   "source": [
    "def factorial(n):\n",
    "    if n == 0 or n == 1:\n",
    "        return 1\n",
    "    else:\n",
    "        return n * factorial(n - 1)\n",
    "number = int(input(\"Enter a number: \"))\n",
    "if number < 0:\n",
    "    print(\"Factorial is not defined for negative numbers.\")\n",
    "else:\n",
    "    result = factorial(number)\n",
    "    print(f\"The factorial of {number} is {result}.\")"
   ]
  },
  {
   "cell_type": "code",
   "execution_count": 161,
   "metadata": {},
   "outputs": [
    {
     "name": "stdout",
     "output_type": "stream",
     "text": [
      "The reverse of 'shre' is 'erhs'.\n"
     ]
    }
   ],
   "source": [
    "def reverse_string(s):\n",
    "    return s[::-1]\n",
    "string = input(\"Enter a string: \")\n",
    "reversed_string = reverse_string(string)\n",
    "print(f\"The reverse of '{string}' is '{reversed_string}'.\")"
   ]
  },
  {
   "cell_type": "code",
   "execution_count": 162,
   "metadata": {},
   "outputs": [
    {
     "name": "stdout",
     "output_type": "stream",
     "text": [
      "The number of vowels in 'shre' is 1.\n"
     ]
    }
   ],
   "source": [
    "def count_vowels(s):\n",
    "    vowels = \"aeiouAEIOU\"\n",
    "    count = 0\n",
    "    for char in s:\n",
    "        if char in vowels:\n",
    "            count += 1\n",
    "    return count\n",
    "string = input(\"Enter a string: \")\n",
    "vowel_count = count_vowels(string)\n",
    "print(f\"The number of vowels in '{string}' is {vowel_count}.\")"
   ]
  },
  {
   "cell_type": "markdown",
   "metadata": {},
   "source": [
    "- BUILT -IN FUNCTION"
   ]
  },
  {
   "cell_type": "code",
   "execution_count": 163,
   "metadata": {},
   "outputs": [],
   "source": [
    "import math "
   ]
  },
  {
   "cell_type": "code",
   "execution_count": 164,
   "metadata": {},
   "outputs": [
    {
     "name": "stdout",
     "output_type": "stream",
     "text": [
      "4.0\n",
      "120\n",
      "3.141592653589793\n",
      "12\n",
      "0.8939966636005579\n",
      "24\n"
     ]
    }
   ],
   "source": [
    "print(math.sqrt(16))\n",
    "print(math.factorial(5))\n",
    "print(math.pi)\n",
    "print(math.gcd(12,24))\n",
    "print(math.sin(90))\n",
    "print(math.lcm(12,24))"
   ]
  },
  {
   "cell_type": "code",
   "execution_count": 165,
   "metadata": {},
   "outputs": [],
   "source": [
    "from random import random, randint, choice, shuffle"
   ]
  },
  {
   "cell_type": "code",
   "execution_count": 166,
   "metadata": {},
   "outputs": [
    {
     "name": "stdout",
     "output_type": "stream",
     "text": [
      "get a random number between 0 and 2 :  0.711036174211737\n",
      "get a random number between 0 and 2 : 2\n",
      "get a random number between 0 and 2 : 1\n",
      "shuffle a list : \n"
     ]
    },
    {
     "data": {
      "text/plain": [
       "(None, ['john', 'bob', 'slice', 'aimt'])"
      ]
     },
     "execution_count": 166,
     "metadata": {},
     "output_type": "execute_result"
    }
   ],
   "source": [
    "print('get a random number between 0 and 2 : ', random())\n",
    "print('get a random number between 0 and 2 :', randint(0,2))\n",
    "print('get a random number between 0 and 2 :', choice([1,2,3,4]))\n",
    "names=['john','slice','aimt','bob']\n",
    "shuffle(names)\n",
    "print('shuffle a list : '),names"
   ]
  },
  {
   "cell_type": "code",
   "execution_count": 167,
   "metadata": {},
   "outputs": [],
   "source": [
    "from datetime import datetime as dt"
   ]
  },
  {
   "cell_type": "code",
   "execution_count": 168,
   "metadata": {},
   "outputs": [
    {
     "name": "stdout",
     "output_type": "stream",
     "text": [
      "Current Date and Time : 2024-09-06 10:40:34.550066\n",
      "Current Date : 2024-09-06\n",
      "Current Date : 10:40:34.552100\n"
     ]
    }
   ],
   "source": [
    "print('Current Date and Time :', dt.now())\n",
    "print('Current Date :', dt.now().date())\n",
    "print('Current Date :', dt.now().time())"
   ]
  },
  {
   "cell_type": "code",
   "execution_count": 169,
   "metadata": {},
   "outputs": [
    {
     "name": "stdout",
     "output_type": "stream",
     "text": [
      "Current year: 2024\n",
      "Current month : 9\n",
      "Current day : 6\n",
      "Current hour : 10\n",
      "Current minute : 40\n",
      "Current second : 34\n",
      "Current microsecond : 571031\n",
      "Current weekday : 4\n"
     ]
    }
   ],
   "source": [
    "print('Current year:', dt.now().year)\n",
    "print('Current month :', dt.now().month)\n",
    "print('Current day :', dt.now().day)\n",
    "print('Current hour :', dt.now().hour)\n",
    "print('Current minute :', dt.now().minute)\n",
    "print('Current second :', dt.now().second)\n",
    "print('Current microsecond :', dt.now().microsecond)\n",
    "print('Current weekday :', dt.now().weekday())"
   ]
  },
  {
   "cell_type": "code",
   "execution_count": 170,
   "metadata": {},
   "outputs": [
    {
     "name": "stdout",
     "output_type": "stream",
     "text": [
      "current date : 06-09-24\n"
     ]
    }
   ],
   "source": [
    "date = dt.strftime(dt.now(), '%d-%m-%y')\n",
    "print('current date :', date)"
   ]
  },
  {
   "cell_type": "code",
   "execution_count": 171,
   "metadata": {},
   "outputs": [
    {
     "name": "stdout",
     "output_type": "stream",
     "text": [
      "current time :  10:40:34\n"
     ]
    }
   ],
   "source": [
    "time = dt.strftime(dt.now(), '%H:%M:%S')\n",
    "print('current time : ', time)\n"
   ]
  },
  {
   "cell_type": "code",
   "execution_count": 172,
   "metadata": {},
   "outputs": [],
   "source": [
    "import os #know about folders,files, and directories\n"
   ]
  },
  {
   "cell_type": "code",
   "execution_count": 173,
   "metadata": {},
   "outputs": [
    {
     "name": "stdout",
     "output_type": "stream",
     "text": [
      "Current Folders : c:\\Users\\91846\\Downloads\\Data Science\n"
     ]
    }
   ],
   "source": [
    "print('Current Folders :',os.getcwd())"
   ]
  },
  {
   "cell_type": "code",
   "execution_count": 174,
   "metadata": {},
   "outputs": [
    {
     "name": "stdout",
     "output_type": "stream",
     "text": [
      "files and folders in current directory : ['.git', 'data structure', 'function.ipynb', 'loops.ipynb']\n",
      "4\n"
     ]
    }
   ],
   "source": [
    "files = os.listdir() #list all files and folders in current directory\n",
    "print('files and folders in current directory :',files)\n",
    "print(len(files))"
   ]
  },
  {
   "cell_type": "code",
   "execution_count": 178,
   "metadata": {},
   "outputs": [
    {
     "name": "stdout",
     "output_type": "stream",
     "text": [
      "files and folders in image classification PPT :  ['.git', 'app.py', 'classifier.py', 'static', 'templates']\n",
      "5\n"
     ]
    }
   ],
   "source": [
    "file = os.listdir(r\"C:\\Users\\91846\\Downloads\\image classification\")\n",
    "print('files and folders in image classification PPT : ',file)\n",
    "print(len(file))"
   ]
  },
  {
   "cell_type": "code",
   "execution_count": 179,
   "metadata": {},
   "outputs": [
    {
     "data": {
      "text/plain": [
       "<generator object walk at 0x000002564660DD00>"
      ]
     },
     "execution_count": 179,
     "metadata": {},
     "output_type": "execute_result"
    }
   ],
   "source": [
    "os.walk('c:')"
   ]
  },
  {
   "cell_type": "code",
   "execution_count": 180,
   "metadata": {},
   "outputs": [
    {
     "name": "stdout",
     "output_type": "stream",
     "text": [
      "=> c:\n",
      "📁 ['.git', 'data structure']\n",
      "📂 ['function.ipynb', 'loops.ipynb']\n",
      "total files : 2\n",
      "=> c:.git\n",
      "📁 ['hooks', 'info', 'logs', 'objects', 'refs']\n",
      "📂 ['COMMIT_EDITMSG', 'config', 'description', 'HEAD', 'index']\n",
      "total files : 7\n",
      "=> c:.git\\hooks\n",
      "📁 []\n",
      "📂 ['applypatch-msg.sample', 'commit-msg.sample', 'fsmonitor-watchman.sample', 'post-update.sample', 'pre-applypatch.sample', 'pre-commit.sample', 'pre-merge-commit.sample', 'pre-push.sample', 'pre-rebase.sample', 'pre-receive.sample', 'prepare-commit-msg.sample', 'push-to-checkout.sample', 'sendemail-validate.sample', 'update.sample']\n",
      "total files : 21\n",
      "=> c:.git\\info\n",
      "📁 []\n",
      "📂 ['exclude']\n",
      "total files : 22\n",
      "=> c:.git\\logs\n",
      "📁 ['refs']\n",
      "📂 ['HEAD']\n",
      "total files : 23\n",
      "=> c:.git\\logs\\refs\n",
      "📁 ['heads']\n",
      "📂 []\n",
      "total files : 23\n",
      "=> c:.git\\logs\\refs\\heads\n",
      "📁 []\n",
      "📂 ['main']\n",
      "total files : 24\n",
      "=> c:.git\\objects\n",
      "📁 ['06', '1c', 'c5', 'e1', 'e6', 'info', 'pack']\n",
      "📂 []\n",
      "total files : 24\n",
      "=> c:.git\\objects\\06\n",
      "📁 []\n",
      "📂 ['535abcb3f4353d54543260b54d12e5fa65b165']\n",
      "total files : 25\n",
      "=> c:.git\\objects\\1c\n",
      "📁 []\n",
      "📂 ['f3c7ff77827288fb58ddb048df087d223b3424']\n",
      "total files : 26\n",
      "=> c:.git\\objects\\c5\n",
      "📁 []\n",
      "📂 ['65a471d37320e7138dc422e2ba8e84caa7c21a']\n",
      "total files : 27\n",
      "=> c:.git\\objects\\e1\n",
      "📁 []\n",
      "📂 ['4363d1a00a996dd813eba272b125a1e35e9673']\n",
      "total files : 28\n",
      "=> c:.git\\objects\\e6\n",
      "📁 []\n",
      "📂 ['9de29bb2d1d6434b8b29ae775ad8c2e48c5391']\n",
      "total files : 29\n",
      "=> c:.git\\objects\\info\n",
      "📁 []\n",
      "📂 []\n",
      "total files : 29\n",
      "=> c:.git\\objects\\pack\n",
      "📁 []\n",
      "📂 []\n",
      "total files : 29\n",
      "=> c:.git\\refs\n",
      "📁 ['heads', 'tags']\n",
      "📂 []\n",
      "total files : 29\n",
      "=> c:.git\\refs\\heads\n",
      "📁 []\n",
      "📂 ['main']\n",
      "total files : 30\n",
      "=> c:.git\\refs\\tags\n",
      "📁 []\n",
      "📂 []\n",
      "total files : 30\n",
      "=> c:data structure\n",
      "📁 []\n",
      "📂 ['dictonary.ipynb', 'list.ipynb', 'sets.ipynb', 'string.ipynb']\n",
      "total files : 34\n"
     ]
    }
   ],
   "source": [
    "total_files=0\n",
    "for path, folders, files in os.walk('c:'):\n",
    "    print('=>' , path)\n",
    "    print('📁', folders)\n",
    "    print('📂' , files)\n",
    "    total_files += len(files)\n",
    "    print('total files :', total_files)"
   ]
  },
  {
   "cell_type": "code",
   "execution_count": 188,
   "metadata": {},
   "outputs": [
    {
     "name": "stdout",
     "output_type": "stream",
     "text": [
      "folders exists\n"
     ]
    }
   ],
   "source": [
    "files = r'C:\\Users\\91846\\Downloads\\image classification'\n",
    "if os.path.exists(files):\n",
    "    print('folders exists')\n",
    "else:\n",
    "    print('folder does not exists')"
   ]
  },
  {
   "cell_type": "code",
   "execution_count": 193,
   "metadata": {},
   "outputs": [
    {
     "name": "stdout",
     "output_type": "stream",
     "text": [
      "folders exists\n",
      "size in bytes : 4096 bytes\n",
      "size in Kb : 4.0 Kb\n",
      "size in Mb : 0.00390625 Mb\n",
      "size in Gb : 3.814697265625e-06 Gb\n"
     ]
    }
   ],
   "source": [
    "files=r'C:\\Users\\91846\\Downloads\\image classification'\n",
    "if os.path.exists(files):\n",
    " print('folders exists')\n",
    " size = os.path.getsize(files)\n",
    "print('size in bytes :', size, 'bytes')\n",
    "print('size in Kb :', size/1024,'Kb')\n",
    "print('size in Mb :', size/1024/1024,'Mb')\n",
    "print('size in Gb :', size/1024/1024/1024,'Gb')"
   ]
  },
  {
   "cell_type": "code",
   "execution_count": null,
   "metadata": {},
   "outputs": [],
   "source": []
  }
 ],
 "metadata": {
  "kernelspec": {
   "display_name": "base",
   "language": "python",
   "name": "python3"
  },
  "language_info": {
   "codemirror_mode": {
    "name": "ipython",
    "version": 3
   },
   "file_extension": ".py",
   "mimetype": "text/x-python",
   "name": "python",
   "nbconvert_exporter": "python",
   "pygments_lexer": "ipython3",
   "version": "3.12.4"
  }
 },
 "nbformat": 4,
 "nbformat_minor": 2
}
